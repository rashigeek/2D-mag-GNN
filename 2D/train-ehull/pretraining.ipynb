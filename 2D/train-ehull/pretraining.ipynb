{
 "cells": [
  {
   "cell_type": "code",
   "execution_count": 1,
   "metadata": {},
   "outputs": [],
   "source": [
    "from ase.db import connect\n",
    "#Create a training folder and fill it with POSCARS \n",
    "from ase.io import read, write\n",
    "from os.path import join\n",
    "import concurrent.futures\n",
    "import sqlite3\n",
    "import pandas as pd\n",
    "from os import path, makedirs\n",
    "db = connect('C2DB.db')  # Replace with your database name\n",
    "id_list = []\n",
    "e_hull_list = []\n",
    "\n",
    "for row in db.select():\n",
    "    \n",
    "    if 'ehull' in row:\n",
    "        id_list.append(row.id)\n",
    "        e_hull_list.append(row.ehull)\n",
    "\n",
    "def write_poscar_from_id(id:str, db_path:str, output_path:str):\n",
    "    atoms = read('{}@id={}'.format(db_path,id))\n",
    "    file_name = '{}.vasp'.format(id)\n",
    "    file_path = join(output_path,file_name)\n",
    "    write(file_path,atoms,format='vasp',direct = True)\n",
    "\n",
    "def wrapped_write_poscar_from_id(id):\n",
    "    write_poscar_from_id(id, db_path='C2DB.db', output_path='train-folder/')\n",
    "\n",
    "# Use ThreadPoolExecutor to apply the wrapped function to each element in the id list\n",
    "with concurrent.futures.ThreadPoolExecutor() as executor:\n",
    "    executor.map(wrapped_write_poscar_from_id, id_list)"
   ]
  },
  {
   "cell_type": "code",
   "execution_count": null,
   "metadata": {},
   "outputs": [],
   "source": [
    "id_strings = [str(id)+'.vasp' for id in id_list]"
   ]
  },
  {
   "cell_type": "code",
   "execution_count": null,
   "metadata": {},
   "outputs": [],
   "source": [
    "f = open(\"train-folder/id_prop.csv\", \"w\")\n",
    "\n",
    "for i in range(len(id_strings)):\n",
    "    f.write(\"%s,%6f\\n\" % (id_strings[i], e_hull_list[i]))\n",
    "\n",
    "f.close()"
   ]
  },
  {
   "cell_type": "code",
   "execution_count": null,
   "metadata": {},
   "outputs": [],
   "source": [
    "import json\n",
    "# Define a configuration dictionary for the ALIGNN model\n",
    "data = {\n",
    "    \"version\": \"112bbedebdaecf59fb18e11c929080fb2f358246\",\n",
    "    \"dataset\": \"user_data\",\n",
    "    \"target\": \"target\",\n",
    "    \"atom_features\": \"cgcnn\",\n",
    "    \"neighbor_strategy\": \"k-nearest\",\n",
    "    \"id_tag\": \"jid\",\n",
    "    \"random_seed\": 123,\n",
    "    \"n_val\": None,\n",
    "    \"n_test\": None,\n",
    "    \"n_train\": None,\n",
    "    \"train_ratio\": 0.8,\n",
    "    \"val_ratio\": 0.1,\n",
    "    \"test_ratio\": 0.1,\n",
    "    \"target_multiplication_factor\": None,\n",
    "    \"epochs\": 200,\n",
    "    \"batch_size\": 32,\n",
    "    \"weight_decay\": 1e-05,\n",
    "    \"learning_rate\": 0.001,\n",
    "    \"filename\": \"sample\",\n",
    "    \"warmup_steps\": 2000,\n",
    "    \"criterion\": \"mse\",\n",
    "    \"optimizer\": \"adamw\",\n",
    "    \"scheduler\": \"onecycle\",\n",
    "    \"pin_memory\": False,\n",
    "    \"save_dataloader\": False,\n",
    "    \"write_checkpoint\": True,\n",
    "    \"write_predictions\": True,\n",
    "    \"store_outputs\": True,\n",
    "    \"progress\": True,\n",
    "    \"log_tensorboard\": False,\n",
    "    \"standard_scalar_and_pca\": False,\n",
    "    \"use_canonize\": True,\n",
    "    \"num_workers\": 0,\n",
    "    \"cutoff\": 8.0,\n",
    "    \"max_neighbors\": 12,\n",
    "    \"n_early_stopping\": 15,\n",
    "    \"keep_data_order\": False,\n",
    "    \"n_early_stopping\": 15,\n",
    "    \"model\": {\n",
    "        \"name\": \"alignn\",\n",
    "        \"alignn_layers\": 4,\n",
    "        \"gcn_layers\": 4,\n",
    "        \"atom_input_features\": 92,\n",
    "        \"edge_input_features\": 80,\n",
    "        \"triplet_input_features\": 40,\n",
    "        \"embedding_features\": 64,\n",
    "        \"hidden_features\": 256,\n",
    "        \"output_features\": 1,\n",
    "        \"link\": \"identity\",\n",
    "        \"zero_inflated\": False,\n",
    "    }\n",
    "}\n",
    "\n",
    "with open('train-folder/config.json', 'w') as f:\n",
    "    json.dump(data, f)"
   ]
  },
  {
   "cell_type": "code",
   "execution_count": null,
   "metadata": {},
   "outputs": [],
   "source": [
    "!nohup train_folder.py --root_dir \"train-folder\" --config \"train-folder/config.json\" --output_dir \"with_transfer\" --restart_model_path \"train-folder\" &"
   ]
  }
 ],
 "metadata": {
  "kernelspec": {
   "display_name": "matgl-env",
   "language": "python",
   "name": "python3"
  },
  "language_info": {
   "codemirror_mode": {
    "name": "ipython",
    "version": 3
   },
   "file_extension": ".py",
   "mimetype": "text/x-python",
   "name": "python",
   "nbconvert_exporter": "python",
   "pygments_lexer": "ipython3",
   "version": "3.11.3"
  },
  "orig_nbformat": 4
 },
 "nbformat": 4,
 "nbformat_minor": 2
}
