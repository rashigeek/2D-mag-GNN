{
 "cells": [
  {
   "cell_type": "code",
   "execution_count": 1,
   "metadata": {},
   "outputs": [
    {
     "name": "stdout",
     "output_type": "stream",
     "text": [
      "The Mean Absolute Error (MAE) of the model is 0.038712\n"
     ]
    }
   ],
   "source": [
    "import pandas as pd\n",
    "\n",
    "# Read the CSV file into a DataFrame\n",
    "filename = 'prediction_results_test_set.csv'\n",
    "data = pd.read_csv(filename)\n",
    "\n",
    "# Calculate the Mean Absolute Error (MAE)\n",
    "mae = abs(data['target'] - data['prediction']).mean()\n",
    "\n",
    "print(f'The Mean Absolute Error (MAE) of the model is {mae:.6f}')\n"
   ]
  }
 ],
 "metadata": {
  "interpreter": {
   "hash": "cad4936c5c697b8942204fef04e779b31395e9166f4bfb326035f7c849633fb2"
  },
  "kernelspec": {
   "display_name": "Python 3.11.3 ('matgl-env')",
   "language": "python",
   "name": "python3"
  },
  "language_info": {
   "codemirror_mode": {
    "name": "ipython",
    "version": 3
   },
   "file_extension": ".py",
   "mimetype": "text/x-python",
   "name": "python",
   "nbconvert_exporter": "python",
   "pygments_lexer": "ipython3",
   "version": "3.11.3"
  },
  "orig_nbformat": 4
 },
 "nbformat": 4,
 "nbformat_minor": 2
}
