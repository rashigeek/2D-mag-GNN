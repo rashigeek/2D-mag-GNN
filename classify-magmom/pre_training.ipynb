{
 "cells": [
  {
   "cell_type": "code",
   "execution_count": 1,
   "metadata": {},
   "outputs": [
    {
     "name": "stderr",
     "output_type": "stream",
     "text": [
      "/home/trial/miniconda3/envs/matgl-env/lib/python3.11/site-packages/tqdm/auto.py:21: TqdmWarning: IProgress not found. Please update jupyter and ipywidgets. See https://ipywidgets.readthedocs.io/en/stable/user_install.html\n",
      "  from .autonotebook import tqdm as notebook_tqdm\n",
      "Retrieving SummaryDoc documents: 100%|██████████| 154718/154718 [03:08<00:00, 820.41it/s] \n"
     ]
    }
   ],
   "source": [
    "from mp_api.client import MPRester\n",
    "from mpkey import key\n",
    "def fetch_magnetic_materials(api_key):\n",
    "    m = MPRester(api_key)\n",
    "\n",
    "    # Query the API for materials with a non-zero total magnetic moment\n",
    "    \n",
    "    materials = m.summary.search(\n",
    "                        fields =[\"material_id\",\"total_magnetization\",'structure'])\n",
    "\n",
    "    return materials\n",
    "\n",
    "api_key = key  # Replace with your actual API key\n",
    "materials = fetch_magnetic_materials(api_key)"
   ]
  },
  {
   "cell_type": "code",
   "execution_count": 2,
   "metadata": {},
   "outputs": [
    {
     "name": "stderr",
     "output_type": "stream",
     "text": [
      "No Pauling electronegativity for He. Setting to NaN. This has no physical meaning, and is mainly done to avoid errors caused by the code expecting a float.\n",
      "No Pauling electronegativity for Ar. Setting to NaN. This has no physical meaning, and is mainly done to avoid errors caused by the code expecting a float.\n",
      "No Pauling electronegativity for Ne. Setting to NaN. This has no physical meaning, and is mainly done to avoid errors caused by the code expecting a float.\n"
     ]
    }
   ],
   "source": [
    "from pymatgen.io.vasp.inputs import Poscar\n",
    "f = open(\"train-folder/id_prop.csv\", \"w\")\n",
    "for i in materials:\n",
    "    atoms = i.structure\n",
    "    \n",
    "    jid = i.material_id.lstrip()\n",
    "    target = i.total_magnetization\n",
    "    if target < 0.05:\n",
    "        target = -1.0\n",
    "    else:\n",
    "        target = 1.0\n",
    "        \n",
    "    poscar_name = \"POSCAR-\" + jid + \".vasp\"\n",
    "    poscar = Poscar(atoms)\n",
    "    \n",
    "    if target != \"na\":\n",
    "        with open('train-folder/' + poscar_name, \"w\") as fil:\n",
    "            fil.write(str(poscar))\n",
    "            \n",
    "        f.write(\"%s,%6f\\n\" % (poscar_name, target))\n",
    "\n",
    "f.close()"
   ]
  },
  {
   "cell_type": "code",
   "execution_count": 1,
   "metadata": {},
   "outputs": [],
   "source": [
    "import json\n",
    "# Define a configuration dictionary for the ALIGNN model\n",
    "data = {\n",
    "    \"version\": \"112bbedebdaecf59fb18e11c929080fb2f358246\",\n",
    "    \"dataset\": \"user_data\",\n",
    "    \"target\": \"target\",\n",
    "    \"atom_features\": \"cgcnn\",\n",
    "    \"neighbor_strategy\": \"k-nearest\",\n",
    "    \"id_tag\": \"jid\",\n",
    "    \"random_seed\": 123,\n",
    "    \"classification_threshold\": 0.0,\n",
    "    \"n_val\": None,\n",
    "    \"n_test\": None,\n",
    "    \"n_train\": None,\n",
    "    \"train_ratio\": 0.8,\n",
    "    \"val_ratio\": 0.1,\n",
    "    \"test_ratio\": 0.1,\n",
    "    \"target_multiplication_factor\": None,\n",
    "    \"epochs\": 200,\n",
    "    \"batch_size\": 32,\n",
    "    \"weight_decay\": 1e-05,\n",
    "    \"learning_rate\": 0.001,\n",
    "    \"filename\": \"sample\",\n",
    "    \"warmup_steps\": 2000,\n",
    "    \"criterion\": \"mse\",\n",
    "    \"optimizer\": \"adamw\",\n",
    "    \"scheduler\": \"onecycle\",\n",
    "    \"pin_memory\": False,\n",
    "    \"save_dataloader\": False,\n",
    "    \"write_checkpoint\": True,\n",
    "    \"write_predictions\": True,\n",
    "    \"store_outputs\": True,\n",
    "    \"progress\": True,\n",
    "    \"log_tensorboard\": False,\n",
    "    \"standard_scalar_and_pca\": False,\n",
    "    \"use_canonize\": True,\n",
    "    \"num_workers\": 0,\n",
    "    \"cutoff\": 8.0,\n",
    "    \"max_neighbors\": 12,\n",
    "    \"n_early_stopping\": 15,\n",
    "    \"keep_data_order\": False,\n",
    "    \"n_early_stopping\": 15,\n",
    "    \"model\": {\n",
    "        \"name\": \"alignn\",\n",
    "        \"alignn_layers\": 4,\n",
    "        \"gcn_layers\": 4,\n",
    "        \"atom_input_features\": 92,\n",
    "        \"edge_input_features\": 80,\n",
    "        \"triplet_input_features\": 40,\n",
    "        \"embedding_features\": 64,\n",
    "        \"hidden_features\": 256,\n",
    "        \"output_features\": 1,\n",
    "        \"link\": \"identity\",\n",
    "        \"zero_inflated\": False,\n",
    "        \"classification\": True,\n",
    "        \"num_classes\": 2\n",
    "    }\n",
    "}\n",
    "\n",
    "with open('train-folder/config.json', 'w') as f:\n",
    "    json.dump(data, f)"
   ]
  },
  {
   "cell_type": "code",
   "execution_count": null,
   "metadata": {},
   "outputs": [],
   "source": [
    "#nohup train_folder.py --root_dir \"train-folder\" --config \"train-folder/config.json\" --output_dir \"magmom-class\" --classification_threshold 0.05 &"
   ]
  }
 ],
 "metadata": {
  "interpreter": {
   "hash": "cad4936c5c697b8942204fef04e779b31395e9166f4bfb326035f7c849633fb2"
  },
  "kernelspec": {
   "display_name": "Python 3.11.3 ('matgl-env')",
   "language": "python",
   "name": "python3"
  },
  "language_info": {
   "codemirror_mode": {
    "name": "ipython",
    "version": 3
   },
   "file_extension": ".py",
   "mimetype": "text/x-python",
   "name": "python",
   "nbconvert_exporter": "python",
   "pygments_lexer": "ipython3",
   "version": "3.11.3"
  },
  "orig_nbformat": 4
 },
 "nbformat": 4,
 "nbformat_minor": 2
}
